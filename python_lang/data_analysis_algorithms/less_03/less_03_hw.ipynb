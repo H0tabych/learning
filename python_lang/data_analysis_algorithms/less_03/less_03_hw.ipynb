{
 "cells": [
  {
   "cell_type": "code",
   "execution_count": 1,
   "id": "f954bb36-03a6-440c-975f-360e91d45b1a",
   "metadata": {
    "tags": []
   },
   "outputs": [],
   "source": [
    "import numpy as np"
   ]
  },
  {
   "cell_type": "code",
   "execution_count": 2,
   "id": "719e41da-4812-47aa-b215-fd3e9e659534",
   "metadata": {
    "tags": []
   },
   "outputs": [],
   "source": [
    "def calc_std_feat(x):\n",
    "    res = (x - x.mean(axis=0)) / x.std(axis=0)\n",
    "    return res"
   ]
  },
  {
   "cell_type": "code",
   "execution_count": 3,
   "id": "721a81fd-aad6-4f1b-ad85-4698e5bd4928",
   "metadata": {
    "tags": []
   },
   "outputs": [],
   "source": [
    "def calc_logloss(y, y_pred):\n",
    "    err = - np.mean(y * np.log(y_pred) + (1.0 - y) * np.log(1.0 - y_pred))\n",
    "    err = np.sum(err)\n",
    "    return err"
   ]
  },
  {
   "cell_type": "code",
   "execution_count": 4,
   "id": "8597424a-6801-40de-b67d-9fd688e278ef",
   "metadata": {
    "tags": []
   },
   "outputs": [],
   "source": [
    "def sigmoid(z):\n",
    "    res = 1 / (1 + np.exp(-z))\n",
    "    return res"
   ]
  },
  {
   "cell_type": "code",
   "execution_count": 5,
   "id": "1a12c60e-ad23-413b-8f77-e54159b4db6c",
   "metadata": {
    "tags": []
   },
   "outputs": [],
   "source": [
    "def eval_model(X, y, iterations, alpha=1e-4):\n",
    "    np.random.seed(42)\n",
    "    W = np.random.randn(X.shape[1])\n",
    "    n = X.shape[0]\n",
    "    for i in range(1, iterations+1):\n",
    "        z = np.dot(X, W)\n",
    "        y_pred = sigmoid(z)\n",
    "        err = calc_logloss(y, y_pred)\n",
    "        W -= alpha * (1/n * np.dot( X.T, (y_pred - y)))\n",
    "            \n",
    "    final_error = calc_logloss(y, y_pred)\n",
    "    #print(i, W, final_error)\n",
    "    return W, final_error"
   ]
  },
  {
   "cell_type": "code",
   "execution_count": 6,
   "id": "1a36a25c-23df-4234-9266-4128ada10f52",
   "metadata": {
    "tags": []
   },
   "outputs": [],
   "source": [
    "X = np.array([[1, 1, 1, 1, 1, 1, 1, 1, 1, 1],\n",
    "              [1, 1, 2, 5, 3, 0, 5, 10, 1, 2],\n",
    "              [500, 700, 750, 600, 1450, 800, 1500, 2000, 450, 1000],\n",
    "              [1, 1, 2, 1, 2,  1, 3, 3, 1, 2]], dtype = np.float64)\n",
    "y = np.array([0, 0, 1, 0, 1, 0, 1, 0, 1, 1], dtype = np.int8)"
   ]
  },
  {
   "cell_type": "code",
   "execution_count": 7,
   "id": "45503371-364d-4aba-9029-07566393bd06",
   "metadata": {
    "tags": []
   },
   "outputs": [],
   "source": [
    "X_std = X.T\n",
    "X_std[:, 1:] = calc_std_feat(X_std[:, 1:])"
   ]
  },
  {
   "cell_type": "markdown",
   "id": "eef097ec-4a0f-48e2-8efd-13222fc4521e",
   "metadata": {},
   "source": [
    "# 1. Измените функцию calc_logloss так, чтобы нули по возможности не попадали в np.log."
   ]
  },
  {
   "cell_type": "code",
   "execution_count": 8,
   "id": "73f7b8aa-70c0-433f-8ecc-7c3ded581acc",
   "metadata": {
    "tags": []
   },
   "outputs": [],
   "source": [
    "def calc_logloss(y, y_pred):\n",
    "    y_pred = np.where(y_pred == 1, 1 - 1e-8, y_pred)\n",
    "    y_pred = np.where(y_pred == 0, 0 + 1e-8, y_pred)\n",
    "    err = - np.mean(y * np.log(y_pred) + (1.0 - y) * np.log(1.0 - y_pred))\n",
    "    err = np.sum(err)\n",
    "    return err"
   ]
  },
  {
   "cell_type": "markdown",
   "id": "3276da5f-3ade-4ac4-b547-7bb9718b85a5",
   "metadata": {},
   "source": [
    "# 2. Подберите аргументы функции eval_model для логистической регрессии таким образом, чтобы log loss был минимальным."
   ]
  },
  {
   "cell_type": "code",
   "execution_count": 9,
   "id": "d13cd8dd-b866-426b-98f3-a96a6b6ec515",
   "metadata": {
    "tags": []
   },
   "outputs": [],
   "source": [
    "iters = np.logspace(3, 4, 10, dtype=np.int16)\n",
    "alphas = np.logspace(-4, 0, 10)\n",
    "alphas = np.unique(np.append(alphas, np.linspace(1, 20, 10)))"
   ]
  },
  {
   "cell_type": "code",
   "execution_count": 10,
   "id": "148cd3a8-5be2-4e41-afb9-b803f4a52dda",
   "metadata": {
    "tags": []
   },
   "outputs": [
    {
     "name": "stdout",
     "output_type": "stream",
     "text": [
      "Ошибка 0.05628671054404477 при параметрах {'iteration': 1000, 'alpha': 15.777777777777779}\n",
      "Ошибка 0.03587428612198597 при параметрах {'iteration': 1291, 'alpha': 20.0}\n",
      "Ошибка 0.0320451806001156 при параметрах {'iteration': 1668, 'alpha': 20.0}\n",
      "Ошибка 0.028109157303437042 при параметрах {'iteration': 2154, 'alpha': 20.0}\n",
      "Ошибка 0.024199565926765546 при параметрах {'iteration': 2782, 'alpha': 20.0}\n",
      "Ошибка 0.020460334006882467 при параметрах {'iteration': 3593, 'alpha': 20.0}\n",
      "Ошибка 0.017008419065970344 при параметрах {'iteration': 4641, 'alpha': 20.0}\n",
      "Ошибка 0.013929187809418186 при параметрах {'iteration': 5994, 'alpha': 20.0}\n",
      "Ошибка 0.011260783226439586 при параметрах {'iteration': 7742, 'alpha': 20.0}\n",
      "Ошибка 0.009006902394517112 при параметрах {'iteration': 10000, 'alpha': 20.0}\n"
     ]
    }
   ],
   "source": [
    "best_error = np.inf\n",
    "best_params = {}\n",
    "\n",
    "for itr in iters:\n",
    "    for alpha in alphas:\n",
    "        W, error = eval_model(X_std, y, iterations=itr, alpha=alpha)\n",
    "        if error < best_error:\n",
    "            best_error = error\n",
    "            best_params = {\n",
    "                'iteration': itr,\n",
    "                'alpha': alpha\n",
    "            }\n",
    "            \n",
    "    print(f'Ошибка {best_error} при параметрах {best_params}')"
   ]
  },
  {
   "cell_type": "markdown",
   "id": "f757e526-5fa3-4c74-9529-4b57d6d7c677",
   "metadata": {},
   "source": [
    "# 3. Создайте функцию calc_pred_proba, возвращающую предсказанную вероятность класса 1. На вход подаётся W, который уже посчитан функцией eval_model, и X, на выходе — массив y_pred_proba."
   ]
  },
  {
   "cell_type": "code",
   "execution_count": 11,
   "id": "a3655ac1-55ad-4379-bc39-e6a31c2256a2",
   "metadata": {
    "tags": []
   },
   "outputs": [],
   "source": [
    "def calc_pred_proba(W, X):\n",
    "    y_pred_proba = sigmoid(np.dot(X, W))\n",
    "    return y_pred_proba"
   ]
  },
  {
   "cell_type": "code",
   "execution_count": 12,
   "id": "550a7031-6851-4210-8da4-24df01b023e7",
   "metadata": {
    "tags": []
   },
   "outputs": [
    {
     "data": {
      "text/plain": [
       "array([4.31937509e-02, 6.35867212e-13, 1.00000000e+00, 1.97770063e-32,\n",
       "       9.96908305e-01, 4.08278462e-12, 1.00000000e+00, 7.91426973e-04,\n",
       "       9.58852154e-01, 1.00000000e+00])"
      ]
     },
     "execution_count": 12,
     "metadata": {},
     "output_type": "execute_result"
    }
   ],
   "source": [
    "calc_pred_proba(W, X_std)"
   ]
  },
  {
   "cell_type": "markdown",
   "id": "733dddcd-40ef-4982-b189-8544e2306930",
   "metadata": {},
   "source": [
    "# 4. Создайте функцию calc_pred, возвращающую предсказанный класс. На вход подаётся W, который уже посчитан функцией eval_model, и X, на выходе — массив y_pred."
   ]
  },
  {
   "cell_type": "code",
   "execution_count": 13,
   "id": "5c42228b-a786-4c10-a5c2-645397ee1990",
   "metadata": {
    "tags": []
   },
   "outputs": [],
   "source": [
    "def calc_pred(W, X):\n",
    "    y_pred_proba = calc_pred_proba(W, X)\n",
    "    y_pred = np.where(y_pred_proba > 0.5, 1, 0)\n",
    "    return y_pred"
   ]
  },
  {
   "cell_type": "code",
   "execution_count": 14,
   "id": "47761ec3-09fd-4feb-a895-828d6a1457bb",
   "metadata": {
    "tags": []
   },
   "outputs": [
    {
     "data": {
      "text/plain": [
       "array([0, 0, 1, 0, 1, 0, 1, 0, 1, 1])"
      ]
     },
     "execution_count": 14,
     "metadata": {},
     "output_type": "execute_result"
    }
   ],
   "source": [
    "pred = calc_pred(W, X_std)\n",
    "pred"
   ]
  },
  {
   "cell_type": "markdown",
   "id": "753ed6c0-a04d-4899-8375-cfa3a1096ce6",
   "metadata": {},
   "source": [
    "# 5. Посчитайте Accuracy, матрицу ошибок, точность и полноту, а также F1 score."
   ]
  },
  {
   "cell_type": "code",
   "execution_count": 15,
   "id": "e589e5d0-567e-4c1d-8219-b42b638bb497",
   "metadata": {
    "tags": []
   },
   "outputs": [],
   "source": [
    "def accuracy(y, y_pred):\n",
    "    accuracy = np.mean(y == y_pred)\n",
    "    return accuracy"
   ]
  },
  {
   "cell_type": "code",
   "execution_count": 16,
   "id": "c6b5f339-1450-4d46-b24c-d66346106b22",
   "metadata": {
    "tags": []
   },
   "outputs": [
    {
     "name": "stdout",
     "output_type": "stream",
     "text": [
      "True \t  [0 0 1 0 1 0 1 0 1 1]\n",
      "Predicted [0 0 1 0 1 0 1 0 1 1]\n"
     ]
    }
   ],
   "source": [
    "print(f'True \\t  {y}')\n",
    "print(f'Predicted {pred}')"
   ]
  },
  {
   "cell_type": "code",
   "execution_count": 17,
   "id": "14f6ac30-28cd-4fc9-a963-399703507134",
   "metadata": {
    "tags": []
   },
   "outputs": [
    {
     "data": {
      "text/plain": [
       "1.0"
      ]
     },
     "execution_count": 17,
     "metadata": {},
     "output_type": "execute_result"
    }
   ],
   "source": [
    "accuracy(y, pred)"
   ]
  },
  {
   "cell_type": "code",
   "execution_count": 18,
   "id": "56e5435d-8842-4558-845e-20456519e659",
   "metadata": {
    "tags": []
   },
   "outputs": [],
   "source": [
    "def confusion_matrix(y, y_pred):\n",
    "    cm = np.zeros((2, 2))\n",
    "    for i in range(len(y)): \n",
    "        if y[i] == y_pred[i] == 1: # TP\n",
    "            cm[0][0] += 1\n",
    "        elif y[i] == y_pred[i] == 0: # TN\n",
    "            cm[1][1] += 1\n",
    "        elif y[i] != y_pred[i] and y[i] == 1: # FN\n",
    "            cm[1][0] += 1\n",
    "        elif y[i] != y_pred[i] and y[i] == 0: # FP\n",
    "            cm[0][1] += 1\n",
    "    return cm"
   ]
  },
  {
   "cell_type": "code",
   "execution_count": 19,
   "id": "6866fc94-8c2b-4af3-a36e-8183b95aa330",
   "metadata": {
    "tags": []
   },
   "outputs": [
    {
     "data": {
      "text/plain": [
       "array([[5., 0.],\n",
       "       [0., 5.]])"
      ]
     },
     "execution_count": 19,
     "metadata": {},
     "output_type": "execute_result"
    }
   ],
   "source": [
    "cm = confusion_matrix(y, pred)\n",
    "cm"
   ]
  },
  {
   "cell_type": "code",
   "execution_count": 20,
   "id": "1efe8727-20cf-4b67-bda0-e7159d51ac35",
   "metadata": {
    "tags": []
   },
   "outputs": [],
   "source": [
    "def precision(y, y_pred):\n",
    "    cm = confusion_matrix(y, y_pred)\n",
    "    TP = cm[0][0]\n",
    "    TN = cm[1][1]\n",
    "    FP = cm[0][1]\n",
    "    FN = cm[1][0]\n",
    "    precision = TP / (TP + FP)\n",
    "    return precision"
   ]
  },
  {
   "cell_type": "code",
   "execution_count": 21,
   "id": "08750a68-3ce8-4b0f-85f0-2e74efdacda4",
   "metadata": {
    "tags": []
   },
   "outputs": [
    {
     "data": {
      "text/plain": [
       "1.0"
      ]
     },
     "execution_count": 21,
     "metadata": {},
     "output_type": "execute_result"
    }
   ],
   "source": [
    "precision(y, pred)"
   ]
  },
  {
   "cell_type": "code",
   "execution_count": 22,
   "id": "ec296edc-6760-4348-9e4c-2d05b88c9a5c",
   "metadata": {
    "tags": []
   },
   "outputs": [],
   "source": [
    "def recall(y, y_pred):\n",
    "    cm = confusion_matrix(y, y_pred)\n",
    "    TP = cm[0][0]\n",
    "    TN = cm[1][1]\n",
    "    FP = cm[0][1]\n",
    "    FN = cm[1][0]\n",
    "    recall = TP / (TP + FN)\n",
    "    return recall"
   ]
  },
  {
   "cell_type": "code",
   "execution_count": 23,
   "id": "338ddb6b-e676-42c7-bf33-d00ffb2c8bf4",
   "metadata": {
    "tags": []
   },
   "outputs": [
    {
     "data": {
      "text/plain": [
       "1.0"
      ]
     },
     "execution_count": 23,
     "metadata": {},
     "output_type": "execute_result"
    }
   ],
   "source": [
    "recall(y, pred)"
   ]
  },
  {
   "cell_type": "code",
   "execution_count": 24,
   "id": "3344b99c-2040-400b-858f-dcb846e7fdb6",
   "metadata": {
    "tags": []
   },
   "outputs": [],
   "source": [
    "def f_score(y, y_pred):\n",
    "    pr = precision(y, y_pred)\n",
    "    rec = recall(y, y_pred)\n",
    "    f_score = 2 * pr * rec / (pr + rec)\n",
    "    return f_score"
   ]
  },
  {
   "cell_type": "code",
   "execution_count": 25,
   "id": "3d1cfa88-4884-41ab-9b8d-c2b5e1c74e43",
   "metadata": {
    "tags": []
   },
   "outputs": [
    {
     "data": {
      "text/plain": [
       "1.0"
      ]
     },
     "execution_count": 25,
     "metadata": {},
     "output_type": "execute_result"
    }
   ],
   "source": [
    "f_score(y, pred)"
   ]
  },
  {
   "cell_type": "markdown",
   "id": "089cc38d-61f9-4811-b8be-d16c019e321e",
   "metadata": {},
   "source": [
    "# 6. Могла ли модель переобучиться? Почему?"
   ]
  },
  {
   "cell_type": "code",
   "execution_count": null,
   "id": "5dd8b93b-3529-4e34-8f49-5c0560a45102",
   "metadata": {},
   "outputs": [],
   "source": [
    "Могла и переобучилась. "
   ]
  }
 ],
 "metadata": {
  "kernelspec": {
   "display_name": "Python 3 (ipykernel)",
   "language": "python",
   "name": "python3"
  },
  "language_info": {
   "codemirror_mode": {
    "name": "ipython",
    "version": 3
   },
   "file_extension": ".py",
   "mimetype": "text/x-python",
   "name": "python",
   "nbconvert_exporter": "python",
   "pygments_lexer": "ipython3",
   "version": "3.10.10"
  }
 },
 "nbformat": 4,
 "nbformat_minor": 5
}
