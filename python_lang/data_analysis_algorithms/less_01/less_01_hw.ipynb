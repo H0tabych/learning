{
 "cells": [
  {
   "cell_type": "code",
   "execution_count": 1,
   "id": "d99384b8-597b-405b-a129-29089371e54a",
   "metadata": {
    "tags": []
   },
   "outputs": [],
   "source": [
    "import numpy as np"
   ]
  },
  {
   "cell_type": "markdown",
   "id": "31e32b98-0eb9-4528-9080-c57c490b31ee",
   "metadata": {},
   "source": [
    "# 1. Подберите скорость обучения (eta) и количество итераций"
   ]
  },
  {
   "cell_type": "markdown",
   "id": "af96dfd7-b675-4095-9a12-a71cd8f27b7c",
   "metadata": {
    "tags": []
   },
   "source": [
    "## Error function MSE"
   ]
  },
  {
   "cell_type": "code",
   "execution_count": 2,
   "id": "f01ef24a-a271-431a-8648-8fdaa8bad72e",
   "metadata": {},
   "outputs": [],
   "source": [
    "def calc_mse(y, y_pred):\n",
    "    err = np.mean((y - y_pred)**2)\n",
    "    return err"
   ]
  },
  {
   "cell_type": "markdown",
   "id": "772457d5-5c2f-47bc-8f19-085cb9d9f4f2",
   "metadata": {},
   "source": [
    "## Initialization of numerical features and target values"
   ]
  },
  {
   "cell_type": "code",
   "execution_count": 3,
   "id": "1a91201f-bd9a-46e7-b017-e3112fdc784b",
   "metadata": {
    "tags": []
   },
   "outputs": [],
   "source": [
    "X = np.array([[1, 1, 1, 1, 1, 1, 1, 1, 1, 1],\n",
    "              [1, 1, 2, 5, 3, 0, 5, 10, 1, 2]]).T\n",
    "y = [45, 55, 50, 55, 60, 35, 75, 80, 50, 60]"
   ]
  },
  {
   "cell_type": "code",
   "execution_count": 4,
   "id": "41299388-4f10-408f-9710-86da6e380438",
   "metadata": {},
   "outputs": [
    {
     "name": "stdout",
     "output_type": "stream",
     "text": [
      "Лучшая ошибка 43.968755474084645 с параметрами {'eta': 0.1, 'n_iter': 1010}\n"
     ]
    }
   ],
   "source": [
    "n = X.shape[0]\n",
    "\n",
    "# initialization of an array with learning rate values (eta)\n",
    "eta_0 = 1e-4\n",
    "eta_n = 1e-1\n",
    "etas = np.linspace(eta_0, eta_n, 10)\n",
    "\n",
    "# initialization of an array with iteration count values\n",
    "n_iters = [x for x in range(10, 1050, 50)]\n",
    "\n",
    "best_error = np.inf\n",
    "best_params = {}\n",
    "\n",
    "for eta in etas:\n",
    "    for n_iter in n_iters:\n",
    "        W = np.array([1, 0.5])\n",
    "        curr_eta = eta\n",
    "        \n",
    "        for i in range(n_iter):\n",
    "            y_pred = np.dot(X, W)\n",
    "            err = calc_mse(y, y_pred)\n",
    "            for k in range(W.shape[0]):\n",
    "                W[k] -= curr_eta * (1/n * 2 * X[:, k] @ (y_pred - y))\n",
    "            if i % 10 == 0:\n",
    "                curr_eta /= 1.1\n",
    "                \n",
    "        # write parameters with minimum error\n",
    "        if err < best_error:\n",
    "            best_error = err\n",
    "            best_params = {\n",
    "                'eta': eta,\n",
    "                'n_iter': n_iter\n",
    "            }\n",
    "print(f'Лучшая ошибка {best_error} с параметрами {best_params}')"
   ]
  },
  {
   "cell_type": "markdown",
   "id": "f1d11fc5-cdf2-4d03-8018-e7c499ad8780",
   "metadata": {},
   "source": [
    "# 2*. В этом коде мы избавляемся от итераций по весам, но тут есть ошибка, исправьте ее"
   ]
  },
  {
   "cell_type": "code",
   "execution_count": 5,
   "id": "dd3cfd96-58ca-4c78-8fc8-89b71ceba4b5",
   "metadata": {
    "tags": []
   },
   "outputs": [
    {
     "name": "stdout",
     "output_type": "stream",
     "text": [
      "Number of objects = 10        \n",
      "Learning rate = 0.01        \n",
      "Initial weights = [1.  0.5] \n",
      "\n",
      "Iteration #0: W_new = [2.08 4.27], MSE = 3047.75\n",
      "Iteration #100: W_new = [28.38281518  6.83710367], MSE = 177.43\n",
      "Iteration #200: W_new = [38.38986469  5.02247953], MSE = 65.33\n",
      "Iteration #300: W_new = [42.39314129  4.29654705], MSE = 47.39\n",
      "Iteration #400: W_new = [43.99463466  4.00614091], MSE = 44.52\n",
      "Iteration #500: W_new = [44.63530512  3.8899652 ], MSE = 44.06\n",
      "Iteration #600: W_new = [44.89160255  3.84348962], MSE = 43.98\n"
     ]
    }
   ],
   "source": [
    "n = X.shape[0]\n",
    "\n",
    "eta = 1e-2 \n",
    "n_iter = 700\n",
    "\n",
    "W = np.array([1, 0.5])\n",
    "print(f'Number of objects = {n} \\\n",
    "       \\nLearning rate = {eta} \\\n",
    "       \\nInitial weights = {W} \\n')\n",
    "\n",
    "for i in range(n_iter):\n",
    "    y_pred = np.dot(X, W)\n",
    "    err = calc_mse(y, y_pred)\n",
    "#     for k in range(W.shape[0]):\n",
    "#         W[k] -= eta * (1/n * 2 * X[:, k] @ (y_pred - y))\n",
    "    # ИЗМЕНЕНИЯ\n",
    "    W -= eta * (1/n * 2 * np.dot(X.T, y_pred - y))\n",
    "    # ИЗМЕНЕНИЯ\n",
    "    #\n",
    "    if i % 100 == 0:\n",
    "        print(f'Iteration #{i}: W_new = {W}, MSE = {round(err,2)}')"
   ]
  },
  {
   "cell_type": "code",
   "execution_count": 6,
   "id": "d2d1eb0f-b90c-409a-8df7-7ec3428a1b5a",
   "metadata": {
    "tags": []
   },
   "outputs": [
    {
     "name": "stdout",
     "output_type": "stream",
     "text": [
      "Number of objects = 10        \n",
      "Learning rate = 0.01        \n",
      "Initial weights = [1.  0.5] \n",
      "\n",
      "Iteration #0: W_new = [2.08 4.27], MSE = 3047.75\n",
      "Iteration #100: W_new = [28.38281518  6.83710367], MSE = 177.43\n",
      "Iteration #200: W_new = [38.38986469  5.02247953], MSE = 65.33\n",
      "Iteration #300: W_new = [42.39314129  4.29654705], MSE = 47.39\n",
      "Iteration #400: W_new = [43.99463466  4.00614091], MSE = 44.52\n",
      "Iteration #500: W_new = [44.63530512  3.8899652 ], MSE = 44.06\n",
      "Iteration #600: W_new = [44.89160255  3.84348962], MSE = 43.98\n"
     ]
    }
   ],
   "source": [
    "n = X.shape[0]\n",
    "\n",
    "eta = 1e-2\n",
    "n_iter = 700 # Прибавили итераций, что бы дойти до минимума\n",
    "\n",
    "W = np.array([1, 0.5])\n",
    "print(f'Number of objects = {n} \\\n",
    "       \\nLearning rate = {eta} \\\n",
    "       \\nInitial weights = {W} \\n')\n",
    "\n",
    "for i in range(n_iter):\n",
    "    y_pred = np.dot(X, W)\n",
    "    err = calc_mse(y, y_pred)\n",
    "#     for k in range(W.shape[0]):\n",
    "#         W[k] -= eta * (1/n * 2 * X[:, k] @ (y_pred - y))\n",
    "\n",
    "    # ИЗМЕНЕНИЯ\n",
    "#     print(X.shape, (y_pred - y).shape)\n",
    "#     print(W.shape)\n",
    "    W -= eta * (1/n * 2 * np.dot(X.T, y_pred - y)) # Транспонировали матрицу X\n",
    "    #\n",
    "    if i % 100 == 0:\n",
    "        print(f'Iteration #{i}: W_new = {W}, MSE = {round(err,2)}')"
   ]
  },
  {
   "cell_type": "markdown",
   "id": "27c8d966-bceb-4ac9-bb3e-e127ef062c4d",
   "metadata": {
    "tags": []
   },
   "source": [
    "# 3*. Вместо того, чтобы задавать количество итераций, задайте другое условие останова алгоритма - когда веса перестают изменяться меньше определенного порога $\\epsilon$."
   ]
  },
  {
   "cell_type": "code",
   "execution_count": 32,
   "id": "84383bab-8106-4414-adb6-03766d64f840",
   "metadata": {
    "tags": []
   },
   "outputs": [
    {
     "name": "stdout",
     "output_type": "stream",
     "text": [
      "Лучшая ошибка 739.2631343689551 с параметрами {'eta': 0.001, 'n_iter': 1581}\n",
      "Лучшая ошибка 134.8562134829513 с параметрами {'eta': 0.012, 'n_iter': 1731}\n",
      "Лучшая ошибка 55.760965116347315 с параметрами {'eta': 0.023000000000000003, 'n_iter': 1691}\n",
      "Лучшая ошибка 45.483426064489585 с параметрами {'eta': 0.034, 'n_iter': 1631}\n",
      "Лучшая ошибка 44.161333707206424 с параметрами {'eta': 0.045000000000000005, 'n_iter': 1551}\n",
      "Лучшая ошибка 43.99298464357297 с параметрами {'eta': 0.05600000000000001, 'n_iter': 1461}\n",
      "Лучшая ошибка 43.97176795893548 с параметрами {'eta': 0.067, 'n_iter': 1371}\n",
      "Лучшая ошибка 43.969121873625014 с параметрами {'eta': 0.07800000000000001, 'n_iter': 1281}\n",
      "Лучшая ошибка 43.96879533650357 с параметрами {'eta': 0.08900000000000001, 'n_iter': 1181}\n",
      "Лучшая ошибка 43.968755467714416 с параметрами {'eta': 0.1, 'n_iter': 1081}\n"
     ]
    }
   ],
   "source": [
    "n = X.shape[0]\n",
    "\n",
    "# initialization of an array with learning rate values (eta)\n",
    "eta_0 = 1e-3\n",
    "eta_n = 1e-1\n",
    "etas = np.linspace(eta_0, eta_n, 10)\n",
    "\n",
    "epsilon = 1e-8 # value of minimum weight difference between iterations\n",
    "\n",
    "for eta in etas:\n",
    "    n_iter = 0\n",
    "    diff_weight = np.inf\n",
    "    W = np.array([1, 0.5])\n",
    "    curr_eta = eta\n",
    "    best_error = np.inf\n",
    "    best_params = {}\n",
    "    while diff_weight > epsilon:\n",
    "        y_pred = np.dot(X, W)\n",
    "        err = calc_mse(y, y_pred)\n",
    "        \n",
    "        old_W = W.copy()\n",
    "        W -= curr_eta * (1/n * 2 * np.dot(X.T, y_pred - y))\n",
    "        diff_weight = np.linalg.norm(W - old_W, ord=2)\n",
    "        \n",
    "        if n_iter % 10 == 0:\n",
    "            curr_eta /= 1.1\n",
    "        \n",
    "        # write parameters with minimum error\n",
    "        if err <= best_error:\n",
    "            best_error = err\n",
    "            best_params = {\n",
    "                'eta': eta,\n",
    "                'n_iter': n_iter\n",
    "            }\n",
    "        n_iter += 1\n",
    "    print(f'Лучшая ошибка {best_error} с параметрами {best_params}')"
   ]
  },
  {
   "cell_type": "code",
   "execution_count": null,
   "id": "d1dec33a-51bc-4dee-ad06-c108ccb9e802",
   "metadata": {
    "tags": []
   },
   "outputs": [],
   "source": []
  },
  {
   "cell_type": "code",
   "execution_count": null,
   "id": "9d15f227-32a5-44e3-97ba-541ad75e5a85",
   "metadata": {},
   "outputs": [],
   "source": []
  }
 ],
 "metadata": {
  "kernelspec": {
   "display_name": "Python 3 (ipykernel)",
   "language": "python",
   "name": "python3"
  },
  "language_info": {
   "codemirror_mode": {
    "name": "ipython",
    "version": 3
   },
   "file_extension": ".py",
   "mimetype": "text/x-python",
   "name": "python",
   "nbconvert_exporter": "python",
   "pygments_lexer": "ipython3",
   "version": "3.10.10"
  }
 },
 "nbformat": 4,
 "nbformat_minor": 5
}
